{
 "cells": [
  {
   "cell_type": "code",
   "execution_count": 1,
   "id": "fea557d8-d4d2-456e-8bb3-a62e61e20790",
   "metadata": {},
   "outputs": [],
   "source": [
    "from crewai import Task, Crew\n",
    "from narrative_llm_agent.agents.metadata import MetadataAgent\n",
    "from langchain_openai import ChatOpenAI\n",
    "import os"
   ]
  },
  {
   "cell_type": "code",
   "execution_count": 3,
   "id": "2a4db7fb-53aa-4fb8-8a7c-684c1fbc8752",
   "metadata": {},
   "outputs": [],
   "source": [
    "used_llm = ChatOpenAI(model_name=\"gpt-4o\", temperature=0)\n",
    "# used_llm = ChatOpenAI(\n",
    "#     api_key=os.environ.get(\"CBORG_API_KEY\"),\n",
    "#     base_url=\"https://api.cborg.lbl.gov\",\n",
    "#     name=\"lbl/cborg-coder:latest\"\n",
    "# )"
   ]
  },
  {
   "cell_type": "code",
   "execution_count": 4,
   "id": "8221bca7-5c91-4b80-b867-c9a455dd3d1d",
   "metadata": {},
   "outputs": [],
   "source": [
    "auth_token = os.environ[\"KB_AUTH_TOKEN\"]"
   ]
  },
  {
   "cell_type": "code",
   "execution_count": 5,
   "id": "049d4cb3-b692-4958-b4d8-0bac61baa4f7",
   "metadata": {},
   "outputs": [],
   "source": [
    "meta_agent = MetadataAgent(used_llm, token=auth_token)"
   ]
  },
  {
   "cell_type": "code",
   "execution_count": 6,
   "id": "5d0eaa75-5799-49cb-8c7f-bc714049371b",
   "metadata": {},
   "outputs": [
    {
     "name": "stdout",
     "output_type": "stream",
     "text": [
      "\u001b[1m\u001b[95m# Agent:\u001b[00m \u001b[1m\u001b[92mHuman Interaction Manager\u001b[00m\n",
      "\u001b[95m## Task:\u001b[00m \u001b[92mYour task is to assemble metadata necessary to assemble and annotate the genomic reads in UPA '51254/2/1' and store it in a Narrative. First, retrieve the object metadata for UPA '51254/2/1'. If there is not enough information here to choose appropriate applications for assembly and annotation, then ask the user all necessary questions until enough information is together. Note that the user may not know certain information, and this is a valid answer. Next, assemble the final results into a JSON string. Finally, use a tool to store this string in the narrative with id 51254. After the conversation is stored, return the final results.\u001b[00m\n",
      "looking up obj info for 51254/2/1\n",
      "got object info\n",
      "{'ws_id': 51254, 'obj_id': 2, 'name': 'rhodobacter.art.q20.int.PE.reads', 'ws_name': 'wjriehl:narrative_1591995699738', 'metadata': None, 'type': 'KBaseFile.PairedEndLibrary-2.0', 'saved': '2020-06-12T21:06:41+0000', 'version': 1, 'saved_by': 'wjriehl', 'size_bytes': 447}\n",
      "\n",
      "\n",
      "\u001b[1m\u001b[95m# Agent:\u001b[00m \u001b[1m\u001b[92mHuman Interaction Manager\u001b[00m\n",
      "\u001b[95m## Thought:\u001b[00m \u001b[92mI need to start by retrieving the object metadata for the given UPA '51254/2/1' to gather initial information about the genomic reads. This will help determine if further information is needed from the user.\u001b[00m\n",
      "\u001b[95m## Using tool:\u001b[00m \u001b[92mGet object metadata\u001b[00m\n",
      "\u001b[95m## Tool Input:\u001b[00m \u001b[92m\n",
      "\"{\\\"obj_upa\\\": \\\"51254/2/1\\\"}\"\u001b[00m\n",
      "\u001b[95m## Tool Output:\u001b[00m \u001b[92m\n",
      "null\u001b[00m\n",
      "Could you please provide details about the genomic reads you have? Specifically, I need to know the type of organism, the sequencing technology used, and any specific requirements or preferences you have for the assembly and annotation process. If you don't know certain information, that's perfectly fine.\n"
     ]
    },
    {
     "name": "stdin",
     "output_type": "stream",
     "text": [
      " It's a Rhodobacter genome. I don't know any other details.\n"
     ]
    },
    {
     "name": "stdout",
     "output_type": "stream",
     "text": [
      "\n",
      "\n",
      "\u001b[1m\u001b[95m# Agent:\u001b[00m \u001b[1m\u001b[92mHuman Interaction Manager\u001b[00m\n",
      "\u001b[95m## Thought:\u001b[00m \u001b[92mThe metadata retrieval for the given UPA '51254/2/1' returned null, indicating that I need to gather information directly from the user to proceed with the genome assembly and annotation pipeline.\n",
      "Thought: I need to ask the user questions to gather necessary information about the genomic reads for assembly and annotation.\u001b[00m\n",
      "\u001b[95m## Using tool:\u001b[00m \u001b[92mUser Conversation Tool\u001b[00m\n",
      "\u001b[95m## Tool Input:\u001b[00m \u001b[92m\n",
      "\"{\\\"argument\\\": \\\"Could you please provide details about the genomic reads you have? Specifically, I need to know the type of organism, the sequencing technology used, and any specific requirements or preferences you have for the assembly and annotation process. If you don't know certain information, that's perfectly fine.\\\"}\"\u001b[00m\n",
      "\u001b[95m## Tool Output:\u001b[00m \u001b[92m\n",
      "It's a Rhodobacter genome. I don't know any other details.\u001b[00m\n",
      "Thank you for sharing that it's a Rhodobacter genome. Do you happen to know the sequencing technology that was used for these reads? Additionally, are there any specific requirements or preferences you have for the assembly and annotation process, such as coverage depth, expected genome size, or annotation databases to use? If you're unsure, that's okay too.\n"
     ]
    },
    {
     "name": "stdin",
     "output_type": "stream",
     "text": [
      " I think it was PacBio. I have no other requirements or preferences.\n"
     ]
    },
    {
     "name": "stdout",
     "output_type": "stream",
     "text": [
      "\n",
      "\n",
      "\u001b[1m\u001b[95m# Agent:\u001b[00m \u001b[1m\u001b[92mHuman Interaction Manager\u001b[00m\n",
      "\u001b[95m## Thought:\u001b[00m \u001b[92mThought: The user provided the type of organism, which is a Rhodobacter genome, but they do not have additional details. I need to gather more information to ensure the assembly and annotation process is successful. I should ask about the sequencing technology and any specific requirements or preferences they might have, even if they are unsure.\u001b[00m\n",
      "\u001b[95m## Using tool:\u001b[00m \u001b[92mUser Conversation Tool\u001b[00m\n",
      "\u001b[95m## Tool Input:\u001b[00m \u001b[92m\n",
      "\"{\\\"argument\\\": \\\"Thank you for sharing that it's a Rhodobacter genome. Do you happen to know the sequencing technology that was used for these reads? Additionally, are there any specific requirements or preferences you have for the assembly and annotation process, such as coverage depth, expected genome size, or annotation databases to use? If you're unsure, that's okay too.\\\"}\"\u001b[00m\n",
      "\u001b[95m## Tool Output:\u001b[00m \u001b[92m\n",
      "I think it was PacBio. I have no other requirements or preferences.\n",
      "\n",
      "\n",
      "You ONLY have access to the following tools, and should NEVER make up tools that are not listed here:\n",
      "\n",
      "Tool Name: User Conversation Tool(*args: Any, **kwargs: Any) -> Any\n",
      "Tool Description: User Conversation Tool(argument: 'string') - Converse with the user until all questions are fully answered. \n",
      "Tool Arguments: {'argument': {'title': 'Argument', 'type': 'string'}}\n",
      "Tool Name: Get object metadata(*args: Any, **kwargs: Any) -> Any\n",
      "Tool Description: Get object metadata(obj_upa: 'string') - Return the metadata for a KBase Workspace object with the given UPA. \n",
      "Tool Arguments: {'obj_upa': {'title': 'Obj Upa', 'type': 'string'}}\n",
      "Tool Name: Conversation storage tool(**kwargs) -> str\n",
      "Tool Description: Conversation storage tool(narrative_id: 'integer', json_conversation: 'string') - Securely store the results of a conversation in a KBase Narrative. narrative_id: 'id of the Narrative to store the conversation in', json_conversation: 'JSON format of the conversation to store'\n",
      "Tool Arguments: {'narrative_id': {'description': 'id of the Narrative to store the conversation in', 'title': 'Narrative Id', 'type': 'integer'}, 'json_conversation': {'description': 'JSON format of the conversation to store', 'title': 'Json Conversation', 'type': 'string'}}\n",
      "\n",
      "Use the following format:\n",
      "\n",
      "Thought: you should always think about what to do\n",
      "Action: the action to take, only one name of [User Conversation Tool, Get object metadata, Conversation storage tool], just the name, exactly as it's written.\n",
      "Action Input: the input to the action, just a simple python dictionary, enclosed in curly braces, using \" to wrap keys and values.\n",
      "Observation: the result of the action\n",
      "\n",
      "Once all necessary information is gathered:\n",
      "\n",
      "Thought: I now know the final answer\n",
      "Final Answer: the final answer to the original input question\n",
      "\u001b[00m\n",
      "this is the JSON:\n",
      "----------\n",
      "\n",
      "{'organism': 'Rhodobacter', 'sequencing_technology': 'PacBio', 'requirements': 'None'}\n",
      "stored in narrative 51254\n",
      "-------------\n",
      "\n",
      "\n",
      "\u001b[1m\u001b[95m# Agent:\u001b[00m \u001b[1m\u001b[92mHuman Interaction Manager\u001b[00m\n",
      "\u001b[95m## Thought:\u001b[00m \u001b[92mThought: I have gathered the necessary information from the user: the organism is a Rhodobacter genome, and the sequencing technology used is likely PacBio. The user has no additional requirements or preferences. I will now compile this information into a JSON string and store it in the narrative with ID 51254.\u001b[00m\n",
      "\u001b[95m## Using tool:\u001b[00m \u001b[92mConversation storage tool\u001b[00m\n",
      "\u001b[95m## Tool Input:\u001b[00m \u001b[92m\n",
      "\"{\\\"narrative_id\\\": 51254, \\\"json_conversation\\\": \\\"{\\\\\\\"organism\\\\\\\": \\\\\\\"Rhodobacter\\\\\\\", \\\\\\\"sequencing_technology\\\\\\\": \\\\\\\"PacBio\\\\\\\", \\\\\\\"requirements\\\\\\\": \\\\\\\"None\\\\\\\"}\\\"}\"\u001b[00m\n",
      "\u001b[95m## Tool Output:\u001b[00m \u001b[92m\n",
      "None\u001b[00m\n",
      "\n",
      "\n",
      "\u001b[1m\u001b[95m# Agent:\u001b[00m \u001b[1m\u001b[92mHuman Interaction Manager\u001b[00m\n",
      "\u001b[95m## Final Answer:\u001b[00m \u001b[92m\n",
      "```json\n",
      "{\n",
      "  \"organism\": \"Rhodobacter\",\n",
      "  \"sequencing_technology\": \"PacBio\",\n",
      "  \"requirements\": \"None\"\n",
      "}\n",
      "```\u001b[00m\n",
      "\n",
      "\n",
      "######################\n",
      "```json\n",
      "{\n",
      "  \"organism\": \"Rhodobacter\",\n",
      "  \"sequencing_technology\": \"PacBio\",\n",
      "  \"requirements\": \"None\"\n",
      "}\n",
      "```\n"
     ]
    }
   ],
   "source": [
    "# task1 = Task(\n",
    "#     description=(\n",
    "#         \"Get the following information from the user: name, age, and city of residence. \"\n",
    "#         \"Continue asking until all questions are answered. \"\n",
    "#         \"Build the responses into a JSON string with keys 'name', 'age', and 'residence'. Store this string in narrative 12345, then return it.\"\n",
    "#     ),\n",
    "#     expected_output='A JSON object with user information',\n",
    "#     agent=meta_agent.agent,\n",
    "# )\n",
    "\n",
    "reads_upa = \"51254/2/1\"\n",
    "narrative_id = 51254\n",
    "\n",
    "task1 = Task(\n",
    "    description=(\n",
    "        f\"Your task is to assemble metadata necessary to assemble and annotate the genomic reads in UPA '{reads_upa}' and store it in a Narrative. \"\n",
    "        f\"First, retrieve the object metadata for UPA '{reads_upa}'. \"\n",
    "        \"If there is not enough information here to choose appropriate applications for assembly and annotation, then ask the user all necessary questions until enough information is together. \"\n",
    "        \"Note that the user may not know certain information, and this is a valid answer. \"\n",
    "        f\"Next, assemble the final results into a JSON string. Finally, use a tool to store this string in the narrative with id {narrative_id}. \"\n",
    "        \"After the conversation is stored, return the final results.\"\n",
    "    ),\n",
    "    expected_output=\"A JSON object with reads metadata information that has been stored in a Narrative.\",\n",
    "    agent=meta_agent.agent,\n",
    ")\n",
    "\n",
    "crew = Crew(\n",
    "    agents=[meta_agent.agent],\n",
    "    tasks=[task1],\n",
    "    verbose=True,\n",
    "    memory=True,\n",
    ")\n",
    "\n",
    "# Get your crew to work!\n",
    "result = crew.kickoff()\n",
    "\n",
    "print(\"######################\")\n",
    "print(result)"
   ]
  },
  {
   "cell_type": "code",
   "execution_count": null,
   "id": "13a902e1-51ac-497e-848a-0ef70ae6a595",
   "metadata": {},
   "outputs": [],
   "source": []
  },
  {
   "cell_type": "code",
   "execution_count": null,
   "id": "36d017f1-dff5-45f5-b7aa-d6e098d923fc",
   "metadata": {},
   "outputs": [],
   "source": []
  }
 ],
 "metadata": {
  "kernelspec": {
   "display_name": "Python 3 (ipykernel)",
   "language": "python",
   "name": "python3"
  },
  "language_info": {
   "codemirror_mode": {
    "name": "ipython",
    "version": 3
   },
   "file_extension": ".py",
   "mimetype": "text/x-python",
   "name": "python",
   "nbconvert_exporter": "python",
   "pygments_lexer": "ipython3",
   "version": "3.10.9"
  }
 },
 "nbformat": 4,
 "nbformat_minor": 5
}
